{
 "cells": [
  {
   "cell_type": "code",
   "execution_count": 1,
   "id": "e1908b60-c0bf-4243-aafa-4af0b94833f2",
   "metadata": {},
   "outputs": [],
   "source": [
    "import os\n",
    "from dotenv import load_dotenv\n",
    "load_dotenv()\n",
    "\n",
    "COHERE_API_KEY = os.environ[\"COHERE_API_KEY\"]\n",
    "GOOGLE_API_KEY = os.environ[\"GOOGLE_API_KEY\"]\n",
    "LANGCHAIN_TRACING_V2 = os.environ[\"LANGCHAIN_TRACING_V2\"]\n",
    "LANGCHAIN_ENDPOINT = os.environ[\"LANGCHAIN_ENDPOINT\"]\n",
    "LANGCHAIN_API_KEY = os.environ[\"LANGCHAIN_API_KEY\"]\n",
    "LANGCHAIN_PROJECT = os.environ[\"LANGCHAIN_PROJECT\"]"
   ]
  },
  {
   "cell_type": "code",
   "execution_count": 7,
   "id": "f6272f68-a8ad-469b-934c-7dc0702438f7",
   "metadata": {},
   "outputs": [],
   "source": [
    "import os\n",
    "\n",
    "from langchain_cohere import CohereEmbeddings , CohereRerank , ChatCohere\n",
    "import pathlib\n",
    "import textwrap\n",
    "\n",
    "import google.generativeai as genai\n",
    "\n",
    "from IPython.display import display\n",
    "from IPython.display import Markdown\n",
    "\n",
    "\n",
    "def to_markdown(text):\n",
    "  text = text.replace('•', '  *')\n",
    "  return Markdown(textwrap.indent(text, '> ', predicate=lambda _: True))\n",
    "\n",
    "import cohere\n",
    "from qdrant_client.models import Batch\n",
    "from qdrant_client import QdrantClient\n",
    "from qdrant_client.models import Distance, VectorParams\n",
    "\n"
   ]
  },
  {
   "cell_type": "code",
   "execution_count": 8,
   "id": "af83c4a7-2a3f-4b23-9cbb-02ded848abcd",
   "metadata": {},
   "outputs": [],
   "source": [
    "from langchain_google_genai import ChatGoogleGenerativeAI\n",
    "llm = ChatGoogleGenerativeAI(model=\"gemini-1.5-pro-latest\")\n",
    "Qclient = QdrantClient(url=\"http://localhost:6333\")\n",
    "cohere_client = cohere.Client()\n",
    "qclient = QdrantClient(os.environ[\"COHERE_API_KEY\"])"
   ]
  },
  {
   "cell_type": "code",
   "execution_count": 9,
   "id": "ee88bed3-e6be-4ceb-87c6-03e7ec1ebb56",
   "metadata": {},
   "outputs": [],
   "source": [
    "def cohereIndexing(client,collection,texts):\n",
    "    client.upsert(\n",
    "    collection_name=collection,\n",
    "    points=Batch(\n",
    "        ids=range(len(texts)),\n",
    "        vectors=cohere_client.embed(\n",
    "            model=\"embed-english-v3.0\",  # New Embed v3 model\n",
    "            input_type=\"search_document\",  # Input type for indexing documents\n",
    "            texts= [texts[i].page_content for i in range(len(texts))],\n",
    "        ).embeddings,\n",
    "        payloads = [{\"Context{}\".format(index): value} for index, value in enumerate([texts[i].page_content for i in range(len(texts))], start=1)],\n",
    "    ),\n",
    "    )"
   ]
  },
  {
   "cell_type": "code",
   "execution_count": 10,
   "id": "aff93cc3-87b0-404a-8987-03223508c6dd",
   "metadata": {},
   "outputs": [],
   "source": [
    "def cohereRetrival(collection,textList):\n",
    "    cohere_client = cohere.Client(os.environ[\"COHERE_API_KEY\"])\n",
    "    client = QdrantClient()\n",
    "    result = client.search(\n",
    "    collection_name=collection,\n",
    "    query_vector=cohere_client.embed(\n",
    "        model=\"embed-english-v3.0\",  \n",
    "        input_type=\"search_query\",  # Input type for search queries\n",
    "        texts=textList,\n",
    "    ).embeddings[0],\n",
    "    )\n",
    "    return result"
   ]
  },
  {
   "cell_type": "code",
   "execution_count": 11,
   "id": "d739ba50-bb83-42f1-886c-e110ac79a841",
   "metadata": {},
   "outputs": [],
   "source": [
    "from langchain.prompts import ChatPromptTemplate\n",
    "promptTemplate = template = \"\"\"You are a medical assistant that specializes in providing second opinions, diagnosing complex cases \n",
    "and suggesting treatment plans. When I describe the patient details, medical context and task, give me the appropriate treatment plan \n",
    "or second opinion based on the task given by analyzing the patient details and medical context. In your answer include how your opinion or treatment\n",
    "plann is related to the patient's history.\n",
    "\n",
    "Patient History : {patientHistory}\n",
    "\n",
    "Medical Context : {context}\n",
    "\n",
    "Task: {question}\n",
    "\"\"\"\n",
    "prompt = ChatPromptTemplate.from_template(template)"
   ]
  },
  {
   "cell_type": "code",
   "execution_count": 12,
   "id": "07fefabc-5fc6-44b9-8017-b3ec79ddcef7",
   "metadata": {},
   "outputs": [],
   "source": [
    "chain = prompt | llm"
   ]
  },
  {
   "cell_type": "code",
   "execution_count": 14,
   "id": "429e6249-edb4-4476-8860-39805d3bacc3",
   "metadata": {},
   "outputs": [],
   "source": [
    "context = cohereRetrival(\"MedicalPapers\",[question])"
   ]
  },
  {
   "cell_type": "code",
   "execution_count": 23,
   "id": "299a6741-df5c-4982-b627-84e1b0d9f987",
   "metadata": {},
   "outputs": [
    {
     "data": {
      "text/plain": [
       "'4 \\n 2.3 It should take place face to face in a confidential environment, with access for relatives and \\nallied health professionals with a minimum time of 15 -20 minutes. Patients will often be \\nmonths  or even years after injury and frustrated by the delay in diagnosis. It may be the first \\ntime the diagnosis is made, but equally they may already have researched the diagnosis and \\nmade  a decision on their preferred treatment. This decision may change foll owing the \\nconsultation.  \\n \\n2.4 Past medical records from hospital and general practitioner including imaging (if any) should \\nbe available.  \\n \\n2.5 The history of the injury, subsequent and current symptoms should be documented, followed \\nby a clinical examination and re view of all imaging. Instrumented laxiometry may be helpful \\nbut is not considered to be universally necessary.  \\n 2.6 A management plan is made after discussion of both operative & non -operative options for'"
      ]
     },
     "execution_count": 23,
     "metadata": {},
     "output_type": "execute_result"
    }
   ],
   "source": [
    "context[0].payload['Context813']"
   ]
  },
  {
   "cell_type": "code",
   "execution_count": 13,
   "id": "607eeac3-1ca2-4bfd-955c-32bf7afdb4cc",
   "metadata": {},
   "outputs": [],
   "source": [
    "patientHistory = \"\"\"Patient Details : Patient Information:\n",
    "Name: Rajesh Kumar\n",
    "Age: 45\n",
    "Gender: Male\n",
    "Occupation: Office manager\n",
    "Medical History:\n",
    "Hypertension (controlled with medication)\n",
    "Previous history of lumbar strain due to heavy lifting incidents, managed conservatively\n",
    "Chief Complaint:\n",
    "Chronic back pain\n",
    "Duration: Approximately 6 months\n",
    "Symptoms:\n",
    "Dull, aching pain in the lower back, occasionally radiating down the right leg\n",
    "Exacerbated by prolonged sitting or standing, relieved by lying down\n",
    "Severity: 7/10 on average, worsening to 8/10 during flare-ups\n",
    "No associated numbness or tingling\n",
    "Impact on Daily Activities:\n",
    "Difficulty performing work duties due to prolonged sitting at a desk\n",
    "Limited ability to participate in recreational activities, such as playing sports or gardening\n",
    "Struggles with household chores, particularly activities that involve bending or lifting\n",
    "Treatment History:\n",
    "Nonsteroidal anti-inflammatory drugs (NSAIDs) for pain management, with minimal relief\n",
    "Physical therapy sessions focusing on core strengthening exercises and flexibility, providing short-term improvement but limited long-term benefits\n",
    "Occasional use of heat packs and over-the-counter topical analgesics for symptomatic relief\n",
    "Current Medications:\n",
    "Amlodipine 5 mg daily for hypertension\n",
    "Ibuprofen 400 mg as needed for back pain\n",
    "Additional Concerns:\n",
    "Rajesh is concerned about the impact of his back pain on his job performance and overall quality of life.\n",
    "He's interested in exploring alternative treatment options, such as acupuncture or chiropractic care.\n",
    " \"\"\"\n",
    "context = \"\"\" Ibuprofen is used to relieve pain from various conditions such as headache, dental pain, menstrual cramps, muscle aches, or arthritis. It is also used to reduce fever and to relieve minor aches and pain due to the common cold or flu. Ibuprofen is a nonsteroidal anti-inflammatory drug (NSAID). It works by blocking your body's production of certain natural substances that cause inflammation. This effect helps to decrease swelling, pain, or fever.If you are treating a chronic condition such as arthritis, ask your doctor about non-drug treatments and/or using other medications to treat your pain. See also Warning section.This form of ibuprofen is intended for use in children. Do not give this medication to a child younger than 2 years unless directed by the doctor.Check the ingredients on the label even if you have used the product before. The manufacturer may have changed the ingredients. Also, products with similar names may contain different ingredients meant for different purposes. Taking the wrong product could harm you.\n",
    "Amlodipine is used alone or in combination with other medications to treat high blood pressure in adults and children 6 years and older. It is also used to treat certain types of angina (chest pain) and coronary artery disease (narrowing of the blood vessels that supply blood to the heart) \"\"\"\n",
    "\n",
    "question = \"\"\" I'm facing challenges in managing a case of chronic back pain in a patient. Despite thorough evaluation and treatment attempts, including physical therapy and medication, the pain persists. The patient experiences a constant dull ache localized to the lumbar region, limiting their mobility and affecting their quality of life. I'm seeking your expertise to explore alternative treatment strategies or diagnostic approaches that may offer relief. \"\"\""
   ]
  },
  {
   "cell_type": "code",
   "execution_count": 39,
   "id": "ef14237c-45e4-49cd-a938-6454e75399ec",
   "metadata": {},
   "outputs": [
    {
     "data": {
      "text/plain": [
       "ScoredPoint(id=812, version=0, score=0.43539104, payload={'Context813': '4 \\n 2.3 It should take place face to face in a confidential environment, with access for relatives and \\nallied health professionals with a minimum time of 15 -20 minutes. Patients will often be \\nmonths  or even years after injury and frustrated by the delay in diagnosis. It may be the first \\ntime the diagnosis is made, but equally they may already have researched the diagnosis and \\nmade  a decision on their preferred treatment. This decision may change foll owing the \\nconsultation.  \\n \\n2.4 Past medical records from hospital and general practitioner including imaging (if any) should \\nbe available.  \\n \\n2.5 The history of the injury, subsequent and current symptoms should be documented, followed \\nby a clinical examination and re view of all imaging. Instrumented laxiometry may be helpful \\nbut is not considered to be universally necessary.  \\n 2.6 A management plan is made after discussion of both operative & non -operative options for'}, vector=None, shard_key=None)"
      ]
     },
     "execution_count": 39,
     "metadata": {},
     "output_type": "execute_result"
    }
   ],
   "source": [
    "context[0]"
   ]
  },
  {
   "cell_type": "code",
   "execution_count": 40,
   "id": "4abb88e2-3ab2-432e-b9aa-2c24e7305e95",
   "metadata": {},
   "outputs": [
    {
     "data": {
      "text/markdown": [
       "> ## ACL Reconstruction and Meniscus Repair Recovery Plan:\n",
       "> \n",
       "> Based on the provided medical context from University Orthopedics, Inc., and the patient's recent ACL reconstruction and meniscus repair, here's a comprehensive approach to ensure full recovery and prevent re-injury:\n",
       "> \n",
       "> **Phase I (0-2 Weeks Post-op): Focus on Protection and Inflammation Control**\n",
       "> \n",
       "> *   **Swelling Management:** This is crucial in the initial phase. Utilize RICE (Rest, Ice, Compression, Elevation) to minimize swelling and pain. Your doctor may also recommend anti-inflammatory medications.\n",
       "> *   **Range of Motion (ROM):** Start gentle ROM exercises as instructed by your physical therapist to prevent stiffness and achieve the target of 0-90 degrees of flexion. \n",
       "> *   **Physical Therapy:** Begin physical therapy sessions to learn proper crutch use, gait training, and initial strengthening exercises.\n",
       "> *   **Bracing:** Wear a knee brace as directed to protect the graft and provide stability.\n",
       "> \n",
       "> **Phase II (2-6 Weeks Post-op): Gradual Strengthening and Mobility**\n",
       "> \n",
       "> *   **Increased ROM:** Continue working towards full knee extension and further flexion as tolerated.\n",
       "> *   **Strengthening:** Progress strengthening exercises to target the quadriceps, hamstrings, and calf muscles. This may involve bodyweight exercises, resistance bands, and light weights.\n",
       "> *   **Proprioception Exercises:** Begin exercises to improve balance and coordination, which are crucial for knee stability and preventing re-injury.\n",
       "> \n",
       "> **Phase III (6-12 Weeks Post-op): Advanced Strengthening and Functional Training**\n",
       "> \n",
       "> *   **Advanced Strengthening:** Increase the intensity and complexity of strengthening exercises, incorporating more functional movements that mimic daily activities and sports-specific actions.\n",
       "> *   **Plyometrics:** Introduce plyometric exercises (jumping, hopping) gradually to improve power and explosiveness.\n",
       "> *   **Sport-Specific Training:** If the patient is an athlete, start incorporating sport-specific drills and exercises to prepare for a return to play.\n",
       "> \n",
       "> **Long-Term Prevention of ACL Re-tear:**\n",
       "> \n",
       "> *   **Continued Strengthening:** Maintain a regular exercise routine focusing on leg strength, particularly the hamstrings and quadriceps, to ensure good muscle balance and joint stability.\n",
       "> *   **Neuromuscular Training:** Continue proprioception and agility exercises to improve coordination, reaction time, and dynamic stability, which are essential for preventing ACL injuries.\n",
       "> *   **Proper Technique:**  Ensure the patient uses proper techniques during sports and activities, especially when pivoting, cutting, and landing.\n",
       "> *   **Warm-up and Cool-down:** Always emphasize proper warm-up before activity and cool-down afterward to prepare the muscles and prevent injuries.\n",
       "> *   **Bracing:** Depending on the sport and individual risk factors, consider using a brace during high-risk activities for added protection.\n",
       "> \n",
       "> **Connecting with Patient History:**\n",
       "> \n",
       "> Understanding the patient's history, including the mechanism of injury, activity level, and any previous injuries, is crucial in tailoring the rehabilitation program. This information helps determine the pace of progression, the specific exercises chosen, and the long-term strategies for preventing re-injury. \n",
       "> \n",
       "> **Collaboration is Key:**\n",
       "> \n",
       "> It is crucial for the patient to work closely with the physical therapist and surgeon throughout the recovery process. Regular follow-up appointments will ensure proper progression and address any concerns that may arise. This collaborative approach optimizes the chances of a full recovery and a safe return to desired activities. \n"
      ],
      "text/plain": [
       "<IPython.core.display.Markdown object>"
      ]
     },
     "execution_count": 40,
     "metadata": {},
     "output_type": "execute_result"
    }
   ],
   "source": [
    "result = chain.invoke({\"context\":retrievedDocs[0].payload['Context722'] , \"patientHistory\":\"\",\"question\":question})\n",
    "print(result)"
   ]
  },
  {
   "cell_type": "code",
   "execution_count": 30,
   "id": "1bb8ca4f-64e6-4b52-9368-530d72b15743",
   "metadata": {},
   "outputs": [],
   "source": [
    "def evaluate_with_llm(model, prompt, generated_text):\n",
    "    evaluations = {}\n",
    "\n",
    "    # Template for creating evaluation queries\n",
    "    def create_evaluation_query(template, **kwargs):\n",
    "        query = ChatPromptTemplate.from_template(template)\n",
    "        chain = query | model\n",
    "        return float(chain.invoke(kwargs).content)\n",
    "\n",
    "    # Evaluate Relevance\n",
    "    relevance_template = \"Given the context provided by the following prompt: '{prompt}', please evaluate on a scale from 0 to 1, where 1 is highly relevant and 0 is not relevant at all, how relevant is this generated response: '{generated_text}'? Provide a numerical score only.\"\n",
    "    evaluations['relevance'] = create_evaluation_query(relevance_template, prompt=prompt, generated_text=generated_text)\n",
    "\n",
    "    # Evaluate Clarity\n",
    "    clarity_template = \"How clear and easily understandable is this text: '{generated_text}'? Rate its clarity on a scale from 0 to 1, where 1 indicates that the text is very clear and 0 indicates that the text is very unclear. Provide a numerical score only.\"\n",
    "    evaluations['clarity'] = create_evaluation_query(clarity_template, prompt=prompt, generated_text=generated_text)\n",
    "\n",
    "    # Evaluate Coherence\n",
    "    coherence_template = \"On a scale from 0 to 1, with 1 being highly coherent and 0 being not coherent at all, how well do the ideas in this generated text: '{generated_text}' flow together? Consider if the text makes logical sense as a whole. Provide a numerical score only.\"\n",
    "    evaluations['coherence'] = create_evaluation_query(coherence_template, prompt=prompt, generated_text=generated_text)\n",
    "\n",
    "    # Evaluate Detail and Exhaustiveness\n",
    "    detail_template = \"Assessing the detail and exhaustiveness relative to the prompt '{prompt}', how thoroughly does this generated text: '{generated_text}' cover the topic? Rate on a scale from 0 to 1, where 1 is very detailed and exhaustive, and 0 is not detailed at all. Provide a numerical score only.\"\n",
    "    evaluations['details'] = create_evaluation_query(detail_template, prompt=prompt, generated_text=generated_text)\n",
    "\n",
    "    # Evaluate Suitability as an Answer\n",
    "    suitability_template = \"Evaluate the suitability of this generated text: '{generated_text}' as an answer to the original prompt '{prompt}'. On a scale from 0 to 1, where 1 is a perfect answer and 0 is completely unsuitable, provide a numerical score only.\"\n",
    "    evaluations['suitability'] = create_evaluation_query(suitability_template, prompt=prompt, generated_text=generated_text)\n",
    "\n",
    "    return evaluations\n",
    "\n",
    "def critique(model, prompt, generated_text):\n",
    "    evaluation_weights = {\n",
    "        'relevance': 3,  \n",
    "        'clarity': 1,\n",
    "        'coherence': 0.5,\n",
    "        'details': 1.5,\n",
    "        'suitability': 2  \n",
    "    }\n",
    "    \n",
    "    evaluations = evaluate_with_llm(model, prompt, generated_text)\n",
    "    print(\"Evaluations:\", evaluations)\n",
    "    \n",
    "    # Calculate the weighted sum of the evaluations\n",
    "    weighted_sum = sum(evaluations[aspect] * evaluation_weights.get(aspect, 1) for aspect in evaluations)\n",
    "    \n",
    "    # Calculate the sum of weights for the aspects evaluated\n",
    "    total_weight = sum(evaluation_weights.get(aspect, 1) for aspect in evaluations)\n",
    "    \n",
    "    # Calculate the weighted average of the evaluations\n",
    "    weighted_average = weighted_sum / total_weight if total_weight > 0 else 0\n",
    "    \n",
    "    return [weighted_average, evaluations]"
   ]
  },
  {
   "cell_type": "code",
   "execution_count": 29,
   "id": "e139513e-5709-496e-b19f-3fa99e48ca14",
   "metadata": {},
   "outputs": [],
   "source": [
    "evaluationLLm =  ChatGoogleGenerativeAI(model=\"gemini-1.0-pro-latest\")"
   ]
  },
  {
   "cell_type": "code",
   "execution_count": 26,
   "id": "4cf30637-b885-422d-a214-45dcb7d04024",
   "metadata": {},
   "outputs": [],
   "source": [
    "def generate_queries(model,prompt, num_queries):\n",
    "  query_generation_prompt = ChatPromptTemplate.from_template(\"Given the prompt: '{prompt}', generate {num_queries} questions that are better articulated. Return in the form of an list. For example: ['question 1', 'question 2', 'question 3']\")\n",
    "  query_generation_chain = query_generation_prompt | model\n",
    "  return query_generation_chain.invoke({\"prompt\": prompt, \"num_queries\": num_queries}).content.split('\\n')"
   ]
  },
  {
   "cell_type": "code",
   "execution_count": 33,
   "id": "91cda725-0c04-4e70-9b1f-d4fe7e0e160a",
   "metadata": {},
   "outputs": [],
   "source": [
    "question = 'My patient has had a full ACL reconstruction and repair following an ACL tear and a partial meniscus tear. To help him recover fully, what steps are required? How should we prevent a retear of the ACL ligament?'"
   ]
  },
  {
   "cell_type": "code",
   "execution_count": 34,
   "id": "dc84de34-4176-4873-8b47-7c1342cb1075",
   "metadata": {},
   "outputs": [],
   "source": [
    "queries = generate_queries(evaluationLLm,question,3)\n",
    "retrievedDocs = cohereRetrival(\"MedicalPapers\",queries[:1])"
   ]
  },
  {
   "cell_type": "code",
   "execution_count": 35,
   "id": "929f4edc-87eb-4d53-a067-7277518f553e",
   "metadata": {},
   "outputs": [
    {
     "data": {
      "text/plain": [
       "['1. What are the essential stages of rehabilitation to optimize recovery after ACL reconstruction and meniscus repair?',\n",
       " '2. How can we effectively prevent a retear of the ACL ligament during the rehabilitation process?',\n",
       " '3. What are the specific precautions and adaptations required to minimize the risk of retear during functional activities post-rehabilitation?']"
      ]
     },
     "execution_count": 35,
     "metadata": {},
     "output_type": "execute_result"
    }
   ],
   "source": [
    "queries"
   ]
  },
  {
   "cell_type": "code",
   "execution_count": 48,
   "id": "3328bb06-f28f-41e1-8397-652f3e3f35bf",
   "metadata": {},
   "outputs": [
    {
     "data": {
      "text/plain": [
       "10"
      ]
     },
     "execution_count": 48,
     "metadata": {},
     "output_type": "execute_result"
    }
   ],
   "source": [
    "len(retrievedDocs)"
   ]
  },
  {
   "cell_type": "code",
   "execution_count": 55,
   "id": "98c2b82c-f63f-4b3f-8911-043d142575ee",
   "metadata": {},
   "outputs": [
    {
     "data": {
      "text/plain": [
       "dict_values(['1 \\n University Orthopedics, Inc.  \\nSports Medicine Division  \\n \\nANTERIOR  CRUCIATE  LIGAMENT  (ACL ) WITH MENISCUS REPAIR  POST -OP \\nREHABILITATION  PROTOCOL  \\n \\nThe following is a protocol for postoperative patients following ACL reconstruction  and meniscus repair  (medial \\nor lateral) .  The primary goal of this protocol is to protect t he reconstruction and while steadily progressing \\ntowards and ultimately achieving pre -injury level of activity.  Please note this protocol is a guideline .  Patients \\nwith additional surgery (i.e. collateral ligament repair ) will progress at dif ferent rates.  Achieving the criteria of \\neach phase should be emphasized more than the approximate duration.  If a patient should develop an increase \\nin pain or swelling or decrease in motion at any time, act ivity should be decreased until problems are res olved.  \\n \\nPHASE I :  0-2 WEEKS POSTOPERATIVE  \\n \\nGOALS:  \\n• Progressive decrease in swelling  \\n• AROM:  0 – 90 degrees  \\n• Prevent post -op knee stiffness'])"
      ]
     },
     "execution_count": 55,
     "metadata": {},
     "output_type": "execute_result"
    }
   ],
   "source": [
    "retrievedDocs[0].payload.values()"
   ]
  },
  {
   "cell_type": "code",
   "execution_count": 57,
   "id": "1afee179-5e20-4e88-8792-e2d8cba49906",
   "metadata": {},
   "outputs": [
    {
     "ename": "SyntaxError",
     "evalue": "expected ':' (4028238099.py, line 2)",
     "output_type": "error",
     "traceback": [
      "\u001b[1;36m  Cell \u001b[1;32mIn[57], line 2\u001b[1;36m\u001b[0m\n\u001b[1;33m    for key,value in doc.payload.items()\u001b[0m\n\u001b[1;37m                                        ^\u001b[0m\n\u001b[1;31mSyntaxError\u001b[0m\u001b[1;31m:\u001b[0m expected ':'\n"
     ]
    }
   ],
   "source": [
    "for doc in retrievedDocs:\n",
    "    for key,value in doc.payload.items():\n",
    "        print(key,value)"
   ]
  },
  {
   "cell_type": "code",
   "execution_count": 43,
   "id": "739ed0ee-6cec-46f2-b6c0-b3dee2db7873",
   "metadata": {},
   "outputs": [],
   "source": [
    "def cohereRetrival(collection,textList):\n",
    "    cohere_client = cohere.Client(os.environ[\"COHERE_API_KEY\"])\n",
    "    client = qdrant_client.QdrantClient()\n",
    "    result = client.search(\n",
    "    collection_name=collection,\n",
    "    query_vector=cohere_client.embed(\n",
    "        model=\"embed-english-v3.0\",  \n",
    "        input_type=\"search_query\",  # Input type for search queries\n",
    "        texts=textList,\n",
    "    ).embeddings[0],\n",
    "    )\n",
    "    return result"
   ]
  },
  {
   "cell_type": "code",
   "execution_count": 42,
   "id": "805a478f-64aa-48d7-af9b-e99dc394fe07",
   "metadata": {},
   "outputs": [],
   "source": [
    "def getResponce(prompt,context = \"\",PatientHistory=\"\"):\n",
    "    result = chain.invoke({\"context\":context,\"patientHistory\":PatientHistory,\"question\":prompt})\n",
    "    return result"
   ]
  },
  {
   "cell_type": "code",
   "execution_count": null,
   "id": "b8853507-ed5c-4c7c-81f2-26a5ab0d6088",
   "metadata": {},
   "outputs": [],
   "source": [
    "def ragFusion(prompt,collection= \"MedicalPapers\"):\n",
    "    queryGenerationPrompt = ChatPromptTemplate.from_template(\"Given the prompt: '{prompt}', generate {num_queries} questions that are better articulated. Return in the form of an list. For example: ['question 1', 'question 2', 'question 3']\")\n",
    "    queryGenerationChain = queryGenerationPrompt | model\n",
    "    queries = query_generation_chain.invoke({\"prompt\": prompt, \"num_queries\": num_queries}).content.split('\\n')\n",
    "    retrievedContent = []\n",
    "    for query in queries:\n",
    "        ret = cohereRetrival(collection,query)\n",
    "        "
   ]
  }
 ],
 "metadata": {
  "kernelspec": {
   "display_name": "Python 3 (ipykernel)",
   "language": "python",
   "name": "python3"
  },
  "language_info": {
   "codemirror_mode": {
    "name": "ipython",
    "version": 3
   },
   "file_extension": ".py",
   "mimetype": "text/x-python",
   "name": "python",
   "nbconvert_exporter": "python",
   "pygments_lexer": "ipython3",
   "version": "3.9.13"
  }
 },
 "nbformat": 4,
 "nbformat_minor": 5
}
